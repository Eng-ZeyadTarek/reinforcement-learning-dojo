{
  "metadata": {
    "kernelspec": {
      "language": "python",
      "display_name": "Python 3",
      "name": "python3"
    },
    "language_info": {
      "name": "python",
      "version": "3.7.12",
      "mimetype": "text/x-python",
      "codemirror_mode": {
        "name": "ipython",
        "version": 3
      },
      "pygments_lexer": "ipython3",
      "nbconvert_exporter": "python",
      "file_extension": ".py"
    },
    "colab": {
      "name": "gridworld.ipynb",
      "provenance": [],
      "collapsed_sections": []
    }
  },
  "nbformat_minor": 0,
  "nbformat": 4,
  "cells": [
    {
      "cell_type": "markdown",
      "source": [
        "# Exercise 4"
      ],
      "metadata": {
        "id": "HlAyYf6gOmSA"
      }
    },
    {
      "cell_type": "markdown",
      "source": [
        "### Define the grid world."
      ],
      "metadata": {
        "id": "bOhSwTQgOmSC"
      }
    },
    {
      "cell_type": "code",
      "source": [
        "import numpy as np\n",
        "\n",
        "grid_world = np.full((5,5),0.0)\n",
        "grid_world"
      ],
      "metadata": {
        "execution": {
          "iopub.status.busy": "2022-05-08T00:59:47.030907Z",
          "iopub.execute_input": "2022-05-08T00:59:47.031120Z",
          "iopub.status.idle": "2022-05-08T00:59:47.037725Z",
          "shell.execute_reply.started": "2022-05-08T00:59:47.031097Z",
          "shell.execute_reply": "2022-05-08T00:59:47.036729Z"
        },
        "trusted": true,
        "colab": {
          "base_uri": "https://localhost:8080/"
        },
        "id": "mtu-2vX3OmSD",
        "outputId": "f64ff87f-e772-49d2-f683-a6aad6b35d20"
      },
      "execution_count": 6,
      "outputs": [
        {
          "output_type": "execute_result",
          "data": {
            "text/plain": [
              "array([[0., 0., 0., 0., 0.],\n",
              "       [0., 0., 0., 0., 0.],\n",
              "       [0., 0., 0., 0., 0.],\n",
              "       [0., 0., 0., 0., 0.],\n",
              "       [0., 0., 0., 0., 0.]])"
            ]
          },
          "metadata": {},
          "execution_count": 6
        }
      ]
    },
    {
      "cell_type": "markdown",
      "source": [
        "### Finding state-value for each one of the states"
      ],
      "metadata": {
        "id": "zCh3BKhLOmSD"
      }
    },
    {
      "cell_type": "code",
      "source": [
        "def markovian(grid_shape,num_of_trials,DISCOUNT_RATE):\n",
        "    for trial in range(num_of_trials): #number of times we will go through the whole grid\n",
        "      for i in range(grid_shape[0]):      #all the rows\n",
        "        for j in range(grid_shape[1]):    #all the columns\n",
        "          #move the agent and make the value equal to 0 if we became out of the grid\n",
        "          left = grid_world[i][j-1] if j > 0 else 0 \n",
        "          right = grid_world[i][j+1] if j < 4 else 0\n",
        "\n",
        "          up = grid_world[i-1][j] if i > 0 else 0\n",
        "          down = grid_world[i+1][j] if i < 4 else 0\n",
        "\n",
        "          directions = [up, down, left, right]     \n",
        "\n",
        "          value=0\n",
        "          reward_A = 10\n",
        "          reward_B = 5\n",
        "          if i==0 and j==1: # the position of A\n",
        "            value = reward_A + DISCOUNT_RATE*grid_world[4][1]\n",
        "\n",
        "          elif i==0 and j==3: # the position of B\n",
        "            value = reward_B + DISCOUNT_RATE*grid_world[2][3]\n",
        "\n",
        "          else:\n",
        "            for direc in directions:\n",
        "              # if moving to a cell in the grid\n",
        "              if direc != 0: \n",
        "                value += 0.25 * (0 + DISCOUNT_RATE*direc)\n",
        "              #if the agent hits a wall, it cannot move and it receives a reward of -1  \n",
        "              else:\n",
        "                value += 0.25 * (-1 + DISCOUNT_RATE*grid_world[i][j])\n",
        "\n",
        "          grid_world[i][j] = value\n",
        "    return grid_world"
      ],
      "metadata": {
        "execution": {
          "iopub.status.busy": "2022-05-08T00:59:47.064003Z",
          "iopub.execute_input": "2022-05-08T00:59:47.064365Z",
          "iopub.status.idle": "2022-05-08T00:59:47.072548Z",
          "shell.execute_reply.started": "2022-05-08T00:59:47.064336Z",
          "shell.execute_reply": "2022-05-08T00:59:47.071931Z"
        },
        "trusted": true,
        "id": "XnE-HHVKOmSE"
      },
      "execution_count": 7,
      "outputs": []
    },
    {
      "cell_type": "markdown",
      "source": [
        "### When the number of trials is 100 and the discount rate is 0.9"
      ],
      "metadata": {
        "id": "iVzflWbUOmSE"
      }
    },
    {
      "cell_type": "code",
      "source": [
        "np.round(markovian((5,5),100,0.9), 1)"
      ],
      "metadata": {
        "execution": {
          "iopub.status.busy": "2022-05-08T00:59:47.148934Z",
          "iopub.execute_input": "2022-05-08T00:59:47.150167Z",
          "iopub.status.idle": "2022-05-08T00:59:47.165350Z",
          "shell.execute_reply.started": "2022-05-08T00:59:47.150116Z",
          "shell.execute_reply": "2022-05-08T00:59:47.164485Z"
        },
        "trusted": true,
        "colab": {
          "base_uri": "https://localhost:8080/"
        },
        "id": "t0DLCX2dOmSF",
        "outputId": "2d09b6b8-17b9-4f47-b9c4-d5d9678f2a11"
      },
      "execution_count": 8,
      "outputs": [
        {
          "output_type": "execute_result",
          "data": {
            "text/plain": [
              "array([[ 3.3,  8.8,  4.4,  5.3,  1.5],\n",
              "       [ 1.5,  3. ,  2.3,  1.9,  0.5],\n",
              "       [ 0.1,  0.7,  0.7,  0.4, -0.4],\n",
              "       [-1. , -0.4, -0.4, -0.6, -1.2],\n",
              "       [-1.9, -1.3, -1.2, -1.4, -2. ]])"
            ]
          },
          "metadata": {},
          "execution_count": 8
        }
      ]
    },
    {
      "cell_type": "markdown",
      "source": [
        "### When the number of trials is 100 and the discount rate is 0.85"
      ],
      "metadata": {
        "id": "BMz1wv35OmSF"
      }
    },
    {
      "cell_type": "code",
      "source": [
        "np.round(markovian((5,5),100,0.85), 1)"
      ],
      "metadata": {
        "execution": {
          "iopub.status.busy": "2022-05-08T00:59:47.236648Z",
          "iopub.execute_input": "2022-05-08T00:59:47.236947Z",
          "iopub.status.idle": "2022-05-08T00:59:47.251653Z",
          "shell.execute_reply.started": "2022-05-08T00:59:47.236917Z",
          "shell.execute_reply": "2022-05-08T00:59:47.250976Z"
        },
        "trusted": true,
        "colab": {
          "base_uri": "https://localhost:8080/"
        },
        "id": "tF2GpUa2OmSF",
        "outputId": "772718ed-b7bd-480a-9e9d-ac762632b524"
      },
      "execution_count": 9,
      "outputs": [
        {
          "output_type": "execute_result",
          "data": {
            "text/plain": [
              "array([[ 2.9,  9.1,  4. ,  5.2,  1.2],\n",
              "       [ 1.2,  2.7,  1.9,  1.6,  0.3],\n",
              "       [-0.1,  0.6,  0.5,  0.3, -0.4],\n",
              "       [-0.9, -0.4, -0.3, -0.5, -1. ],\n",
              "       [-1.6, -1.1, -1. , -1.2, -1.7]])"
            ]
          },
          "metadata": {},
          "execution_count": 9
        }
      ]
    },
    {
      "cell_type": "markdown",
      "source": [
        "### When the number of trials is 100 and the discount rate is 0.75"
      ],
      "metadata": {
        "id": "MM7Ta4gcOmSG"
      }
    },
    {
      "cell_type": "code",
      "source": [
        "np.round(markovian((5,5),100,0.75), 1)"
      ],
      "metadata": {
        "execution": {
          "iopub.status.busy": "2022-05-08T00:59:47.252812Z",
          "iopub.execute_input": "2022-05-08T00:59:47.253067Z",
          "iopub.status.idle": "2022-05-08T00:59:47.274809Z",
          "shell.execute_reply.started": "2022-05-08T00:59:47.253034Z",
          "shell.execute_reply": "2022-05-08T00:59:47.273706Z"
        },
        "trusted": true,
        "colab": {
          "base_uri": "https://localhost:8080/"
        },
        "id": "0qYUbfAAOmSG",
        "outputId": "0c3a50bb-ffe3-4220-fb95-de883ad12285"
      },
      "execution_count": 10,
      "outputs": [
        {
          "output_type": "execute_result",
          "data": {
            "text/plain": [
              "array([[ 2.2,  9.4,  3.3,  5.1,  0.7],\n",
              "       [ 0.7,  2.2,  1.3,  1.2,  0.1],\n",
              "       [-0.2,  0.4,  0.3,  0.2, -0.4],\n",
              "       [-0.7, -0.3, -0.2, -0.3, -0.8],\n",
              "       [-1.3, -0.8, -0.7, -0.8, -1.3]])"
            ]
          },
          "metadata": {},
          "execution_count": 10
        }
      ]
    }
  ]
}